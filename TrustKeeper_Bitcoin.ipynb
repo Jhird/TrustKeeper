{
 "cells": [
  {
   "cell_type": "markdown",
   "metadata": {},
   "source": [
    "![TrustKeeper](img/TK_logo.png)"
   ]
  },
  {
   "cell_type": "markdown",
   "metadata": {},
   "source": [
    "![TrustKeeperHowItWorks](img/TK_how.png)\n",
    "\n",
    "# Description\n",
    "\n",
    "#### In this notebook, we show how to implement TrustKeeper algorithm to predict fraudulent transactions in the context of a Peer-to-Peer (P2P) Bitcoin transaction network\n",
    "\n",
    "#### We will first compute node embeddings using the Node2Vec algorithm and the information from the adjacency matrix in the Bitcoin network. Finally, we will use these node representations to train different classifiers for predicting transaction scores."
   ]
  },
  {
   "cell_type": "markdown",
   "metadata": {},
   "source": [
    "### Import basic libraries"
   ]
  },
  {
   "cell_type": "code",
   "execution_count": 177,
   "metadata": {},
   "outputs": [],
   "source": [
    "import pandas as pd\n",
    "import numpy as np\n",
    "import matplotlib.pyplot as plt\n",
    "import csv\n",
    "from sklearn import manifold\n",
    "%matplotlib inline"
   ]
  },
  {
   "cell_type": "markdown",
   "metadata": {},
   "source": [
    "# **Part 1 - Preprocessing Transaction Rating Data**\n",
    "\n",
    "# How do people rate each other on Bitcoin Marketplaces?\n",
    "\n",
    "![TrustKeeperScore](img/TK_rating.png)\n",
    "\n",
    "#### Load TRIMMED_NETWORK for extracting the node data that will be used to train models. Let's look at a portion of the table"
   ]
  },
  {
   "cell_type": "code",
   "execution_count": 178,
   "metadata": {},
   "outputs": [
    {
     "data": {
      "text/html": [
       "<div>\n",
       "<style scoped>\n",
       "    .dataframe tbody tr th:only-of-type {\n",
       "        vertical-align: middle;\n",
       "    }\n",
       "\n",
       "    .dataframe tbody tr th {\n",
       "        vertical-align: top;\n",
       "    }\n",
       "\n",
       "    .dataframe thead th {\n",
       "        text-align: right;\n",
       "    }\n",
       "</style>\n",
       "<table border=\"1\" class=\"dataframe\">\n",
       "  <thead>\n",
       "    <tr style=\"text-align: right;\">\n",
       "      <th></th>\n",
       "      <th>SOURCE</th>\n",
       "      <th>TARGET</th>\n",
       "      <th>RATING</th>\n",
       "      <th>TIMESTAMP</th>\n",
       "      <th>EPISODE</th>\n",
       "    </tr>\n",
       "  </thead>\n",
       "  <tbody>\n",
       "    <tr>\n",
       "      <th>0</th>\n",
       "      <td>35</td>\n",
       "      <td>3952</td>\n",
       "      <td>1</td>\n",
       "      <td>1.365623e+09</td>\n",
       "      <td>21958</td>\n",
       "    </tr>\n",
       "    <tr>\n",
       "      <th>1</th>\n",
       "      <td>2125</td>\n",
       "      <td>5379</td>\n",
       "      <td>-1</td>\n",
       "      <td>1.392045e+09</td>\n",
       "      <td>32086</td>\n",
       "    </tr>\n",
       "    <tr>\n",
       "      <th>2</th>\n",
       "      <td>5227</td>\n",
       "      <td>5854</td>\n",
       "      <td>1</td>\n",
       "      <td>1.417038e+09</td>\n",
       "      <td>35751</td>\n",
       "    </tr>\n",
       "    <tr>\n",
       "      <th>3</th>\n",
       "      <td>6013</td>\n",
       "      <td>13492</td>\n",
       "      <td>-1</td>\n",
       "      <td>1.393304e+09</td>\n",
       "      <td>32395</td>\n",
       "    </tr>\n",
       "    <tr>\n",
       "      <th>4</th>\n",
       "      <td>6013</td>\n",
       "      <td>13495</td>\n",
       "      <td>-1</td>\n",
       "      <td>1.392008e+09</td>\n",
       "      <td>32075</td>\n",
       "    </tr>\n",
       "    <tr>\n",
       "      <th>5</th>\n",
       "      <td>6286</td>\n",
       "      <td>7603</td>\n",
       "      <td>3</td>\n",
       "      <td>1.424581e+09</td>\n",
       "      <td>36282</td>\n",
       "    </tr>\n",
       "    <tr>\n",
       "      <th>6</th>\n",
       "      <td>6287</td>\n",
       "      <td>6729</td>\n",
       "      <td>10</td>\n",
       "      <td>1.307678e+09</td>\n",
       "      <td>4623</td>\n",
       "    </tr>\n",
       "    <tr>\n",
       "      <th>7</th>\n",
       "      <td>6</td>\n",
       "      <td>2</td>\n",
       "      <td>4</td>\n",
       "      <td>1.289242e+09</td>\n",
       "      <td>1</td>\n",
       "    </tr>\n",
       "    <tr>\n",
       "      <th>8</th>\n",
       "      <td>6</td>\n",
       "      <td>5</td>\n",
       "      <td>2</td>\n",
       "      <td>1.289242e+09</td>\n",
       "      <td>2</td>\n",
       "    </tr>\n",
       "    <tr>\n",
       "      <th>9</th>\n",
       "      <td>1</td>\n",
       "      <td>15</td>\n",
       "      <td>1</td>\n",
       "      <td>1.289243e+09</td>\n",
       "      <td>3</td>\n",
       "    </tr>\n",
       "    <tr>\n",
       "      <th>10</th>\n",
       "      <td>4</td>\n",
       "      <td>3</td>\n",
       "      <td>7</td>\n",
       "      <td>1.289245e+09</td>\n",
       "      <td>4</td>\n",
       "    </tr>\n",
       "    <tr>\n",
       "      <th>11</th>\n",
       "      <td>13</td>\n",
       "      <td>16</td>\n",
       "      <td>8</td>\n",
       "      <td>1.289254e+09</td>\n",
       "      <td>5</td>\n",
       "    </tr>\n",
       "    <tr>\n",
       "      <th>12</th>\n",
       "      <td>7</td>\n",
       "      <td>5</td>\n",
       "      <td>1</td>\n",
       "      <td>1.289363e+09</td>\n",
       "      <td>7</td>\n",
       "    </tr>\n",
       "    <tr>\n",
       "      <th>13</th>\n",
       "      <td>2</td>\n",
       "      <td>21</td>\n",
       "      <td>5</td>\n",
       "      <td>1.289371e+09</td>\n",
       "      <td>9</td>\n",
       "    </tr>\n",
       "    <tr>\n",
       "      <th>14</th>\n",
       "      <td>2</td>\n",
       "      <td>20</td>\n",
       "      <td>5</td>\n",
       "      <td>1.289371e+09</td>\n",
       "      <td>10</td>\n",
       "    </tr>\n",
       "    <tr>\n",
       "      <th>15</th>\n",
       "      <td>21</td>\n",
       "      <td>2</td>\n",
       "      <td>5</td>\n",
       "      <td>1.289381e+09</td>\n",
       "      <td>11</td>\n",
       "    </tr>\n",
       "    <tr>\n",
       "      <th>16</th>\n",
       "      <td>21</td>\n",
       "      <td>1</td>\n",
       "      <td>8</td>\n",
       "      <td>1.289441e+09</td>\n",
       "      <td>12</td>\n",
       "    </tr>\n",
       "    <tr>\n",
       "      <th>17</th>\n",
       "      <td>21</td>\n",
       "      <td>10</td>\n",
       "      <td>8</td>\n",
       "      <td>1.289441e+09</td>\n",
       "      <td>13</td>\n",
       "    </tr>\n",
       "    <tr>\n",
       "      <th>18</th>\n",
       "      <td>21</td>\n",
       "      <td>8</td>\n",
       "      <td>9</td>\n",
       "      <td>1.289441e+09</td>\n",
       "      <td>14</td>\n",
       "    </tr>\n",
       "    <tr>\n",
       "      <th>19</th>\n",
       "      <td>21</td>\n",
       "      <td>3</td>\n",
       "      <td>7</td>\n",
       "      <td>1.289442e+09</td>\n",
       "      <td>15</td>\n",
       "    </tr>\n",
       "  </tbody>\n",
       "</table>\n",
       "</div>"
      ],
      "text/plain": [
       "    SOURCE  TARGET  RATING     TIMESTAMP  EPISODE\n",
       "0       35    3952       1  1.365623e+09    21958\n",
       "1     2125    5379      -1  1.392045e+09    32086\n",
       "2     5227    5854       1  1.417038e+09    35751\n",
       "3     6013   13492      -1  1.393304e+09    32395\n",
       "4     6013   13495      -1  1.392008e+09    32075\n",
       "5     6286    7603       3  1.424581e+09    36282\n",
       "6     6287    6729      10  1.307678e+09     4623\n",
       "7        6       2       4  1.289242e+09        1\n",
       "8        6       5       2  1.289242e+09        2\n",
       "9        1      15       1  1.289243e+09        3\n",
       "10       4       3       7  1.289245e+09        4\n",
       "11      13      16       8  1.289254e+09        5\n",
       "12       7       5       1  1.289363e+09        7\n",
       "13       2      21       5  1.289371e+09        9\n",
       "14       2      20       5  1.289371e+09       10\n",
       "15      21       2       5  1.289381e+09       11\n",
       "16      21       1       8  1.289441e+09       12\n",
       "17      21      10       8  1.289441e+09       13\n",
       "18      21       8       9  1.289441e+09       14\n",
       "19      21       3       7  1.289442e+09       15"
      ]
     },
     "execution_count": 178,
     "metadata": {},
     "output_type": "execute_result"
    }
   ],
   "source": [
    "trim_network = pd.read_csv('2_TRIMMED_NETWORK.csv')\n",
    "trim_network.head(20)"
   ]
  },
  {
   "cell_type": "markdown",
   "metadata": {},
   "source": [
    "#### Define function to extract node features from the network dataframe"
   ]
  },
  {
   "cell_type": "code",
   "execution_count": 5,
   "metadata": {},
   "outputs": [],
   "source": [
    "def GetNodeFeatures(GDF,n):\n",
    "    if n==0:\n",
    "        return ['in_degree','pos_in_edges','neg_in_edges','out_degree','pos_out_edges','neg_out_edges']\n",
    "    # Get sub-dataframes\n",
    "    outgoing = GDF[GDF['SOURCE']==n].copy().reset_index(drop=True)\n",
    "    incoming = GDF[GDF['TARGET']==n].copy().reset_index(drop=True)\n",
    "    \n",
    "    # Compute node degree (incoming)\n",
    "    in_degree = len(incoming)\n",
    "    \n",
    "    # Compute node degree (outgoing)\n",
    "    out_degree = len(outgoing)\n",
    "    \n",
    "    # Compute number of incoming nodes with positive ratings\n",
    "    pos_in_edges = len([i for i in incoming.RATING.values if i>0])\n",
    "    \n",
    "    # Computer number of incoming nodes with negative ratings\n",
    "    neg_in_edges = len([i for i in incoming.RATING.values if i<0])\n",
    "    \n",
    "    # Repeat for outgoing edges\n",
    "    pos_out_edges = len([i for i in outgoing.RATING.values if i>0])\n",
    "    \n",
    "    # Computer number of incoming nodes with negative ratings\n",
    "    neg_out_edges = len([i for i in outgoing.RATING.values if i<0])\n",
    "    \n",
    "    return np.array([in_degree,pos_in_edges,neg_in_edges,out_degree,pos_out_edges,neg_out_edges])"
   ]
  },
  {
   "cell_type": "markdown",
   "metadata": {},
   "source": [
    "#### Obtain node features for all nodes in trimmed network"
   ]
  },
  {
   "cell_type": "code",
   "execution_count": 6,
   "metadata": {},
   "outputs": [],
   "source": [
    "# Define list of nodes and sort it in ascending order\n",
    "nodes = list( set(trim_network['SOURCE']) | set(trim_network['TARGET']) )\n",
    "nodes.sort()\n",
    "\n",
    "# Create NF, the node feature matrix\n",
    "NF = np.zeros([len(nodes),6])\n",
    "for i,n in enumerate(nodes):\n",
    "    NF[i,:] = np.array(GetNodeFeatures(trim_network,n))\n",
    "    \n",
    "# Create a dataframe containing all these node features\n",
    "NF_df = pd.DataFrame(columns=GetNodeFeatures(trim_network,0),data=NF,index=nodes)\n",
    "NF_df.to_csv('trimmed_node_features.csv')"
   ]
  },
  {
   "cell_type": "markdown",
   "metadata": {},
   "source": [
    "#### Create an edgelist file for the trimmed network"
   ]
  },
  {
   "cell_type": "code",
   "execution_count": 7,
   "metadata": {},
   "outputs": [],
   "source": [
    "f = open('trimmed_network.edgelist','w')\n",
    "for i in range(len(trim_network)):\n",
    "    s = str(trim_network['SOURCE'][i])\n",
    "    t = str(trim_network['TARGET'][i])\n",
    "    f.write(s+' '+t+'\\n')\n",
    "f.close()"
   ]
  },
  {
   "cell_type": "markdown",
   "metadata": {},
   "source": [
    "#### Run [Node2Vec](https://snap.stanford.edu/node2vec/) to learn an embedding for each node in the trimmed_network\n",
    "\n",
    "We will set the embedding dimension to 14, the number of walks to 25, and the number of iterations to 15.\n",
    "\n",
    "Run this command in your terminal inside this directory (make sure your python environment is set to python=2.7). This step will take a while\n",
    "```bash\n",
    "python ./node2vec/src/main.py --input ./trimmed_network.edgelist --output ./trimmed_network.emb --dimensions 14 --num-walks 25 --iter 15\n",
    "```"
   ]
  },
  {
   "cell_type": "markdown",
   "metadata": {},
   "source": [
    "#### Create dictionary of nodes:embeddings fromthe trimmed_network.emb file created above"
   ]
  },
  {
   "cell_type": "code",
   "execution_count": 61,
   "metadata": {},
   "outputs": [
    {
     "data": {
      "text/plain": [
       "(9664, 14)"
      ]
     },
     "execution_count": 61,
     "metadata": {},
     "output_type": "execute_result"
    }
   ],
   "source": [
    "n = []\n",
    "e = []\n",
    "with open('./trimmed_network.emb') as fin:\n",
    "    for line in fin:\n",
    "        node_emb = line.strip().split()\n",
    "        n.append(node_emb[0])\n",
    "        e.append(node_emb[1:])\n",
    "n = n[1:]\n",
    "n = [int(i) for i in n]\n",
    "embs = np.zeros([len(e)-1,14])\n",
    "for i in range(1,len(e)):\n",
    "    embs[i-1] = e[i]\n",
    "embs.shape"
   ]
  },
  {
   "cell_type": "markdown",
   "metadata": {},
   "source": [
    "#### Create a 2D projection of the embeddings using [t-SNE](https://lvdmaaten.github.io/tsne/)"
   ]
  },
  {
   "cell_type": "code",
   "execution_count": 34,
   "metadata": {},
   "outputs": [],
   "source": [
    "#tsne = manifold.TSNE(n_components=2, init='pca', random_state=0)\n",
    "#proj = tsne.fit_transform(embs)\n",
    "#np.save('trimmed_network_tSNE_projection.npy',proj)\n",
    "proj = np.load('trimmed_network_tSNE_projection.npy')"
   ]
  },
  {
   "cell_type": "markdown",
   "metadata": {},
   "source": [
    "#### Plot node projections and color them according to the Bitcoin Marketplace they belong to (OTC or ALPHA)"
   ]
  },
  {
   "cell_type": "code",
   "execution_count": 62,
   "metadata": {},
   "outputs": [],
   "source": [
    "alpha_nodes = []\n",
    "otc_nodes = []\n",
    "for i in range(len(n)):\n",
    "    if n[i] > 6005: # The highest OTC node ID is 6005\n",
    "        alpha_nodes.append(i)\n",
    "    else:\n",
    "        otc_nodes.append(i)"
   ]
  },
  {
   "cell_type": "code",
   "execution_count": 63,
   "metadata": {},
   "outputs": [
    {
     "data": {
      "text/plain": [
       "Text(0.5,1,'2-dimensional mapping with t-SNE of Bitcoin network nodes with Node2Vec')"
      ]
     },
     "execution_count": 63,
     "metadata": {},
     "output_type": "execute_result"
    },
    {
     "data": {
      "image/png": "[encoded data removed]",
      "text/plain": [
       "<Figure size 720x720 with 1 Axes>"
      ]
     },
     "metadata": {
      "needs_background": "light"
     },
     "output_type": "display_data"
    }
   ],
   "source": [
    "plt.figure(figsize=(10,10))\n",
    "alpha = proj[alpha_nodes,:]\n",
    "otc = proj[otc_nodes,:]\n",
    "plt.scatter(alpha[:,0],alpha[:,1],c='b',label='Bitcoin Alpha')\n",
    "plt.scatter(otc[:,0],otc[:,1],c='r',label='Bitcoin OTC')\n",
    "plt.legend()\n",
    "plt.title('2-dimensional mapping with t-SNE of Bitcoin network nodes with Node2Vec')"
   ]
  },
  {
   "cell_type": "markdown",
   "metadata": {},
   "source": [
    "#### Thus, for the most part, Node2Vec is able to represent nodes in a 14-dimensional space that accounts for the network structure the nodes' neighborhoods. We will expand these node representations by concatenating the 6 node features we calculated earlier so that we get a final 20-dimensional representation for each node.\n",
    "\n",
    "#### Concatenate Node2Vec embeddings with node features"
   ]
  },
  {
   "cell_type": "code",
   "execution_count": 71,
   "metadata": {},
   "outputs": [
    {
     "data": {
      "text/plain": [
       "(9664, 20)"
      ]
     },
     "execution_count": 71,
     "metadata": {},
     "output_type": "execute_result"
    }
   ],
   "source": [
    "NF_matrix = np.zeros([len(n),20]) # Recall that we have 14 Node2Vec features plus 6 features extracted from the rating network\n",
    "for i in range(len(n)):\n",
    "    NF_matrix[i] = np.concatenate([embs[i],NF_df.loc[n[i]].values])\n",
    "NF_matrix.shape"
   ]
  },
  {
   "cell_type": "markdown",
   "metadata": {},
   "source": [
    "#### Because all 20 features have different scales, we will normalize the entire matrix using the following formula:\n",
    "\n",
    "$$X_{normalized}=\\frac{X - X_{min}}{X_{max}-X_{min}}$$\n",
    "\n",
    "Where $X_{min/max}$ is the columnwise minimum/maximum value of the matrix $X$. In this way, we ensure that all values in the matrix lie within the [0,1] range"
   ]
  },
  {
   "cell_type": "code",
   "execution_count": 75,
   "metadata": {},
   "outputs": [],
   "source": [
    "NF_matrix_min = np.min(NF_matrix,axis=0)\n",
    "NF_matrix_max = np.max(NF_matrix,axis=0)\n",
    "NF_matrix_norm = ( NF_matrix - NF_matrix_min ) / ( NF_matrix_max - NF_matrix_min )"
   ]
  },
  {
   "cell_type": "markdown",
   "metadata": {},
   "source": [
    "#### Capture node ID and embedding into a DataFrame"
   ]
  },
  {
   "cell_type": "code",
   "execution_count": 78,
   "metadata": {},
   "outputs": [
    {
     "data": {
      "text/html": [
       "<div>\n",
       "<style scoped>\n",
       "    .dataframe tbody tr th:only-of-type {\n",
       "        vertical-align: middle;\n",
       "    }\n",
       "\n",
       "    .dataframe tbody tr th {\n",
       "        vertical-align: top;\n",
       "    }\n",
       "\n",
       "    .dataframe thead th {\n",
       "        text-align: right;\n",
       "    }\n",
       "</style>\n",
       "<table border=\"1\" class=\"dataframe\">\n",
       "  <thead>\n",
       "    <tr style=\"text-align: right;\">\n",
       "      <th></th>\n",
       "      <th>1</th>\n",
       "      <th>2</th>\n",
       "      <th>3</th>\n",
       "      <th>4</th>\n",
       "      <th>5</th>\n",
       "      <th>6</th>\n",
       "      <th>7</th>\n",
       "      <th>8</th>\n",
       "      <th>9</th>\n",
       "      <th>10</th>\n",
       "      <th>11</th>\n",
       "      <th>12</th>\n",
       "      <th>13</th>\n",
       "      <th>14</th>\n",
       "      <th>15</th>\n",
       "      <th>16</th>\n",
       "      <th>17</th>\n",
       "      <th>18</th>\n",
       "      <th>19</th>\n",
       "      <th>20</th>\n",
       "    </tr>\n",
       "  </thead>\n",
       "  <tbody>\n",
       "    <tr>\n",
       "      <th>35</th>\n",
       "      <td>0.167553</td>\n",
       "      <td>0.444406</td>\n",
       "      <td>0.472663</td>\n",
       "      <td>0.506634</td>\n",
       "      <td>0.576703</td>\n",
       "      <td>0.429334</td>\n",
       "      <td>0.372962</td>\n",
       "      <td>0.620359</td>\n",
       "      <td>0.547468</td>\n",
       "      <td>0.710448</td>\n",
       "      <td>0.226748</td>\n",
       "      <td>0.463918</td>\n",
       "      <td>0.295785</td>\n",
       "      <td>0.475912</td>\n",
       "      <td>1.000000</td>\n",
       "      <td>1.000000</td>\n",
       "      <td>0.000000</td>\n",
       "      <td>1.000000</td>\n",
       "      <td>1.000000</td>\n",
       "      <td>0.047619</td>\n",
       "    </tr>\n",
       "    <tr>\n",
       "      <th>6006</th>\n",
       "      <td>0.340063</td>\n",
       "      <td>0.479300</td>\n",
       "      <td>0.561667</td>\n",
       "      <td>0.213713</td>\n",
       "      <td>0.427346</td>\n",
       "      <td>0.760799</td>\n",
       "      <td>0.438482</td>\n",
       "      <td>0.653109</td>\n",
       "      <td>0.594130</td>\n",
       "      <td>0.366386</td>\n",
       "      <td>0.338275</td>\n",
       "      <td>0.427905</td>\n",
       "      <td>0.242330</td>\n",
       "      <td>0.578119</td>\n",
       "      <td>0.740899</td>\n",
       "      <td>0.740899</td>\n",
       "      <td>0.000000</td>\n",
       "      <td>0.619327</td>\n",
       "      <td>0.625557</td>\n",
       "      <td>0.009524</td>\n",
       "    </tr>\n",
       "    <tr>\n",
       "      <th>2642</th>\n",
       "      <td>0.253638</td>\n",
       "      <td>0.438191</td>\n",
       "      <td>0.613761</td>\n",
       "      <td>0.426420</td>\n",
       "      <td>0.486094</td>\n",
       "      <td>0.538448</td>\n",
       "      <td>0.411753</td>\n",
       "      <td>0.749950</td>\n",
       "      <td>0.660550</td>\n",
       "      <td>0.791435</td>\n",
       "      <td>0.286897</td>\n",
       "      <td>0.566561</td>\n",
       "      <td>0.327908</td>\n",
       "      <td>0.434380</td>\n",
       "      <td>0.710921</td>\n",
       "      <td>0.708779</td>\n",
       "      <td>0.016667</td>\n",
       "      <td>0.515373</td>\n",
       "      <td>0.512630</td>\n",
       "      <td>0.033333</td>\n",
       "    </tr>\n",
       "    <tr>\n",
       "      <th>2125</th>\n",
       "      <td>0.430843</td>\n",
       "      <td>0.571506</td>\n",
       "      <td>0.398806</td>\n",
       "      <td>0.386505</td>\n",
       "      <td>0.468770</td>\n",
       "      <td>0.407351</td>\n",
       "      <td>0.339845</td>\n",
       "      <td>0.783298</td>\n",
       "      <td>0.673810</td>\n",
       "      <td>0.734899</td>\n",
       "      <td>0.248113</td>\n",
       "      <td>0.663124</td>\n",
       "      <td>0.461399</td>\n",
       "      <td>0.441425</td>\n",
       "      <td>0.323340</td>\n",
       "      <td>0.323340</td>\n",
       "      <td>0.000000</td>\n",
       "      <td>0.515373</td>\n",
       "      <td>0.210996</td>\n",
       "      <td>1.000000</td>\n",
       "    </tr>\n",
       "    <tr>\n",
       "      <th>1810</th>\n",
       "      <td>0.417830</td>\n",
       "      <td>0.525865</td>\n",
       "      <td>0.509467</td>\n",
       "      <td>0.390729</td>\n",
       "      <td>0.615571</td>\n",
       "      <td>0.442351</td>\n",
       "      <td>0.365146</td>\n",
       "      <td>0.909299</td>\n",
       "      <td>0.590005</td>\n",
       "      <td>0.669036</td>\n",
       "      <td>0.299592</td>\n",
       "      <td>0.569811</td>\n",
       "      <td>0.395410</td>\n",
       "      <td>0.481177</td>\n",
       "      <td>0.571734</td>\n",
       "      <td>0.494647</td>\n",
       "      <td>0.600000</td>\n",
       "      <td>0.500732</td>\n",
       "      <td>0.310550</td>\n",
       "      <td>0.633333</td>\n",
       "    </tr>\n",
       "  </tbody>\n",
       "</table>\n",
       "</div>"
      ],
      "text/plain": [
       "            1         2         3         4         5         6         7   \\\n",
       "35    0.167553  0.444406  0.472663  0.506634  0.576703  0.429334  0.372962   \n",
       "6006  0.340063  0.479300  0.561667  0.213713  0.427346  0.760799  0.438482   \n",
       "2642  0.253638  0.438191  0.613761  0.426420  0.486094  0.538448  0.411753   \n",
       "2125  0.430843  0.571506  0.398806  0.386505  0.468770  0.407351  0.339845   \n",
       "1810  0.417830  0.525865  0.509467  0.390729  0.615571  0.442351  0.365146   \n",
       "\n",
       "            8         9         10        11        12        13        14  \\\n",
       "35    0.620359  0.547468  0.710448  0.226748  0.463918  0.295785  0.475912   \n",
       "6006  0.653109  0.594130  0.366386  0.338275  0.427905  0.242330  0.578119   \n",
       "2642  0.749950  0.660550  0.791435  0.286897  0.566561  0.327908  0.434380   \n",
       "2125  0.783298  0.673810  0.734899  0.248113  0.663124  0.461399  0.441425   \n",
       "1810  0.909299  0.590005  0.669036  0.299592  0.569811  0.395410  0.481177   \n",
       "\n",
       "            15        16        17        18        19        20  \n",
       "35    1.000000  1.000000  0.000000  1.000000  1.000000  0.047619  \n",
       "6006  0.740899  0.740899  0.000000  0.619327  0.625557  0.009524  \n",
       "2642  0.710921  0.708779  0.016667  0.515373  0.512630  0.033333  \n",
       "2125  0.323340  0.323340  0.000000  0.515373  0.210996  1.000000  \n",
       "1810  0.571734  0.494647  0.600000  0.500732  0.310550  0.633333  "
      ]
     },
     "execution_count": 78,
     "metadata": {},
     "output_type": "execute_result"
    }
   ],
   "source": [
    "emb_df_norm = pd.DataFrame(columns=list(range(1,21)),index=n,data=NF_matrix_norm)\n",
    "emb_df_norm.head()"
   ]
  },
  {
   "cell_type": "markdown",
   "metadata": {},
   "source": [
    "#### Construct the input matrix $X$ and the output vector $y$. Each row of the $X$ matrix contains 40 values (20 values for the source node or buyer, 20 values for the target node or seller). The $y$ vector captures the rating of the transaction the seller received from the buyer. \n",
    "\n",
    "#### **NOTE:** Here we assign a score of 1 if transaction is rated badly (fraud), and 0 otherwise"
   ]
  },
  {
   "cell_type": "code",
   "execution_count": 82,
   "metadata": {},
   "outputs": [],
   "source": [
    "X = np.zeros([len(trim_network),40])\n",
    "y = np.zeros(len(trim_network))\n",
    "for i in range(len(trim_network)):\n",
    "    s = trim_network['SOURCE'][i]\n",
    "    t = trim_network['TARGET'][i]\n",
    "    r = trim_network['RATING'][i]\n",
    "    left = emb_df_norm.loc[s,:].values\n",
    "    right = emb_df_norm.loc[t,:].values\n",
    "    X[i,:] = np.concatenate([left,right])\n",
    "    if r>0:\n",
    "        y[i] = 0 # If not fraud\n",
    "    else:\n",
    "        y[i] = 1 # If fraud"
   ]
  },
  {
   "cell_type": "markdown",
   "metadata": {},
   "source": [
    "#### Repeat procedure for calculating the $X_{val}$ and $y_{val}$ from the validation table"
   ]
  },
  {
   "cell_type": "code",
   "execution_count": 85,
   "metadata": {},
   "outputs": [],
   "source": [
    "val_network = pd.read_csv('3_TEST_NETWORK.csv')\n",
    "X_val = np.zeros([len(val_network),40])\n",
    "y_val = np.zeros(len(val_network))\n",
    "for i in range(len(val_network)):\n",
    "    s = val_network['SOURCE'][i]\n",
    "    t = val_network['TARGET'][i]\n",
    "    r = val_network['RATING'][i]\n",
    "    left = emb_df_norm.loc[s,:].values\n",
    "    right = emb_df_norm.loc[t,:].values\n",
    "    X_val[i,:] = np.concatenate([left,right])\n",
    "    if r>0:\n",
    "        y_val[i] = 0 # If not fraud\n",
    "    else:\n",
    "        y_val[i] = 1 # If fraud (class imbalance)"
   ]
  },
  {
   "cell_type": "markdown",
   "metadata": {},
   "source": [
    "# **Part 2 - Model Construction, training, and evaluation**\n",
    "\n",
    "#### Models evaluated:\n",
    "\n",
    "* Deep Neural Network (trained with binary crossentropy loss function)\n",
    "* Deep Neural Network (trained with focal loss function)\n",
    "* Logistic Regression"
   ]
  },
  {
   "cell_type": "markdown",
   "metadata": {},
   "source": [
    "#### Load Machine/Deep Learning libraries"
   ]
  },
  {
   "cell_type": "code",
   "execution_count": 88,
   "metadata": {},
   "outputs": [
    {
     "name": "stderr",
     "output_type": "stream",
     "text": [
      "Using TensorFlow backend.\n",
      "/Users/jahirgutierrez/miniconda2/envs/insight/lib/python3.6/importlib/_bootstrap.py:219: RuntimeWarning: compiletime version 3.5 of module 'tensorflow.python.framework.fast_tensor_util' does not match runtime version 3.6\n",
      "  return f(*args, **kwds)\n"
     ]
    }
   ],
   "source": [
    "# Machine Learning\n",
    "from sklearn.model_selection import train_test_split\n",
    "from sklearn.preprocessing import StandardScaler, RobustScaler\n",
    "from sklearn.model_selection import cross_val_score\n",
    "from sklearn.model_selection import KFold\n",
    "from sklearn.preprocessing import LabelEncoder\n",
    "from sklearn.pipeline import Pipeline\n",
    "from sklearn.linear_model import LogisticRegression\n",
    "from sklearn import metrics\n",
    "from sklearn.metrics import confusion_matrix as cm\n",
    "from sklearn.metrics import classification_report\n",
    "from sklearn.metrics import roc_auc_score\n",
    "from sklearn.metrics import roc_curve\n",
    "\n",
    "# Deep Learning\n",
    "import keras\n",
    "from keras.models import Sequential\n",
    "from keras.layers import Dense\n",
    "from keras.models import load_model\n",
    "from keras.wrappers.scikit_learn import KerasClassifier\n",
    "from keras.layers import Input, Convolution2D, MaxPooling2D, Dense, Dropout, Flatten\n",
    "from keras.utils import np_utils\n",
    "from keras.layers.merge import Concatenate"
   ]
  },
  {
   "cell_type": "markdown",
   "metadata": {},
   "source": [
    "#### Define function for generating small samples from training data to train Neural Networks without biasing it towards the most abundant category (0)"
   ]
  },
  {
   "cell_type": "code",
   "execution_count": 89,
   "metadata": {},
   "outputs": [],
   "source": [
    "# Create train and test sets\n",
    "x_train, x_test, y_train, y_test = train_test_split(X,y,test_size= 0.2,random_state=0)\n",
    "def CreateSample(frac=0.8):\n",
    "    fraud_indices = np.array([i for i in range(len(y_train)) if y_train[i]==1])\n",
    "    not_fraud_indices = np.array([i for i in range(len(y_train)) if y_train[i]==0])\n",
    "    sample_size = int(np.round( len(fraud_indices) * frac ))\n",
    "    fraud_sample = np.random.randint(0,len(fraud_indices),sample_size) \n",
    "    not_fraud_sample = np.random.randint(0,len(not_fraud_indices),sample_size)\n",
    "    y_sample = np.concatenate([y_train[fraud_indices][fraud_sample],y_train[not_fraud_indices[not_fraud_sample]]])\n",
    "    x_sample = np.concatenate([x_train[fraud_indices][fraud_sample],x_train[not_fraud_indices[not_fraud_sample]]])\n",
    "    return x_sample,y_sample"
   ]
  },
  {
   "cell_type": "markdown",
   "metadata": {},
   "source": [
    "#### Define Focal Loss Function"
   ]
  },
  {
   "cell_type": "code",
   "execution_count": 90,
   "metadata": {},
   "outputs": [],
   "source": [
    "from keras import backend as K\n",
    "import tensorflow as tf\n",
    "'''\n",
    "Compatible with tensorflow backend\n",
    "'''\n",
    "def focal_loss(gamma=2., alpha=.25):\n",
    "    def focal_loss_fixed(y_true, y_pred):\n",
    "        pt_1 = tf.where(tf.equal(y_true, 1), y_pred, tf.ones_like(y_pred))\n",
    "        pt_0 = tf.where(tf.equal(y_true, 0), y_pred, tf.zeros_like(y_pred))\n",
    "        return -K.sum(alpha * K.pow(1. - pt_1, gamma) * K.log(pt_1))-K.sum((1-alpha) * K.pow( pt_0, gamma) * K.log(1. - pt_0))\n",
    "    return focal_loss_fixed"
   ]
  },
  {
   "cell_type": "markdown",
   "metadata": {},
   "source": [
    "### Construct Model 1 (Neural Network with binary crossentropy)"
   ]
  },
  {
   "cell_type": "code",
   "execution_count": 109,
   "metadata": {},
   "outputs": [],
   "source": [
    "# Initialize model\n",
    "\n",
    "input_size = 40 # Features from X matrix\n",
    "\n",
    "M1 = Sequential()\n",
    "\n",
    "# Add an input layer\n",
    "M1.add(Dense(128, activation='relu', input_shape=(input_size,)))\n",
    "\n",
    "# Add first hidden layer\n",
    "M1.add(Dense(128, activation='relu'))\n",
    "\n",
    "# Add second hidden layer\n",
    "M1.add(Dense(64, activation='relu'))\n",
    "\n",
    "#Add third hidden layer\n",
    "M1.add(Dense(32, activation='relu'))\n",
    "\n",
    "#Add fourth hidden layer\n",
    "M1.add(Dense(16, activation='relu'))\n",
    "\n",
    "# Add output layer\n",
    "M1.add(Dense(1,activation='sigmoid'))\n",
    "\n",
    "# Define optimizers\n",
    "nadam = keras.optimizers.Nadam(lr=1e-6, beta_1=0.9, beta_2=0.999, epsilon=None, schedule_decay=0.004)\n",
    "sgd = keras.optimizers.SGD(lr=1e-3, decay=1e-6, momentum=0.9, nesterov=True)\n",
    "\n",
    "M1.compile(loss='binary_crossentropy',\n",
    "              optimizer=nadam,\n",
    "              metrics=['accuracy'])\n",
    "\n",
    "# Define parameters\n",
    "Nepochs = 10"
   ]
  },
  {
   "cell_type": "markdown",
   "metadata": {},
   "source": [
    "### Train Model 1"
   ]
  },
  {
   "cell_type": "code",
   "execution_count": 110,
   "metadata": {},
   "outputs": [],
   "source": [
    "for i in range(10):\n",
    "    sample_x,sample_y = CreateSample()\n",
    "    M1.fit(sample_x, sample_y, epochs=Nepochs, batch_size=5, verbose=0)"
   ]
  },
  {
   "cell_type": "markdown",
   "metadata": {},
   "source": [
    "### Evaluate Model 1 with test set"
   ]
  },
  {
   "cell_type": "code",
   "execution_count": 93,
   "metadata": {},
   "outputs": [
    {
     "name": "stdout",
     "output_type": "stream",
     "text": [
      "[[7941 1178]\n",
      " [ 229  617]]\n",
      "             precision    recall  f1-score   support\n",
      "\n",
      "        0.0       0.97      0.87      0.92      9119\n",
      "        1.0       0.34      0.73      0.47       846\n",
      "\n",
      "avg / total       0.92      0.86      0.88      9965\n",
      "\n"
     ]
    }
   ],
   "source": [
    "y_pred = M1.predict(x_test)\n",
    "# Print confusion matrix\n",
    "confusion_matrix = cm(y_test, np.round(y_pred))\n",
    "print(confusion_matrix)\n",
    "print(classification_report(y_test, np.round(y_pred)))"
   ]
  },
  {
   "cell_type": "markdown",
   "metadata": {},
   "source": [
    "### Evaluate Model 1 with validation set"
   ]
  },
  {
   "cell_type": "code",
   "execution_count": 94,
   "metadata": {},
   "outputs": [
    {
     "name": "stdout",
     "output_type": "stream",
     "text": [
      "[[7771 1304]\n",
      " [ 268  613]]\n",
      "             precision    recall  f1-score   support\n",
      "\n",
      "        0.0       0.97      0.86      0.91      9075\n",
      "        1.0       0.32      0.70      0.44       881\n",
      "\n",
      "avg / total       0.91      0.84      0.87      9956\n",
      "\n"
     ]
    }
   ],
   "source": [
    "y_pred = M1.predict(X_val)\n",
    "# Print confusion matrix\n",
    "confusion_matrix = cm(y_val, np.round(y_pred))\n",
    "print(confusion_matrix)\n",
    "print(classification_report(y_val, np.round(y_pred)))"
   ]
  },
  {
   "cell_type": "markdown",
   "metadata": {},
   "source": [
    "### Construct Model 2 (Neural Network with Focal Loss)"
   ]
  },
  {
   "cell_type": "code",
   "execution_count": 95,
   "metadata": {},
   "outputs": [],
   "source": [
    "# Initialize model\n",
    "\n",
    "input_size = 40\n",
    "\n",
    "M2 = Sequential()\n",
    "\n",
    "# Add an input layer\n",
    "M2.add(Dense(128, activation='relu', input_shape=(input_size,)))\n",
    "\n",
    "# Add first hidden layer\n",
    "M2.add(Dense(128, activation='relu'))\n",
    "\n",
    "# Add second hidden layer\n",
    "M2.add(Dense(64, activation='relu'))\n",
    "\n",
    "#Add third hidden layer\n",
    "M2.add(Dense(32, activation='relu'))\n",
    "\n",
    "#Add fourth hidden layer\n",
    "M2.add(Dense(16, activation='relu'))\n",
    "\n",
    "# Add output layer\n",
    "M2.add(Dense(1,activation='sigmoid'))\n",
    "\n",
    "# Define optimizers\n",
    "nadam = keras.optimizers.Nadam(lr=1e-6, beta_1=0.9, beta_2=0.999, epsilon=None, schedule_decay=0.004)\n",
    "sgd = keras.optimizers.SGD(lr=1e-3, decay=1e-6, momentum=0.9, nesterov=True)\n",
    "\n",
    "M2.compile(loss=[focal_loss(alpha=.25, gamma=5)],\n",
    "              optimizer=nadam,\n",
    "              metrics=['accuracy'])\n",
    "\n",
    "# Define parameters\n",
    "Nepochs = 10"
   ]
  },
  {
   "cell_type": "markdown",
   "metadata": {},
   "source": [
    "### Train Model 2"
   ]
  },
  {
   "cell_type": "code",
   "execution_count": 96,
   "metadata": {},
   "outputs": [],
   "source": [
    "# Initialize FOR loop\n",
    "for i in range(10):\n",
    "    sample_x,sample_y = CreateSample()\n",
    "    M2.fit(sample_x, sample_y, epochs=Nepochs, batch_size=5, verbose=0)"
   ]
  },
  {
   "cell_type": "markdown",
   "metadata": {},
   "source": [
    "### Evaluate Model 2 with test data"
   ]
  },
  {
   "cell_type": "code",
   "execution_count": 97,
   "metadata": {},
   "outputs": [
    {
     "name": "stdout",
     "output_type": "stream",
     "text": [
      "[[8723  396]\n",
      " [ 400  446]]\n",
      "             precision    recall  f1-score   support\n",
      "\n",
      "        0.0       0.96      0.96      0.96      9119\n",
      "        1.0       0.53      0.53      0.53       846\n",
      "\n",
      "avg / total       0.92      0.92      0.92      9965\n",
      "\n"
     ]
    }
   ],
   "source": [
    "y_pred = M2.predict(x_test)\n",
    "# Print confusion matrix\n",
    "confusion_matrix = cm(y_test, np.round(y_pred))\n",
    "print(confusion_matrix)\n",
    "print(classification_report(y_test, np.round(y_pred)))"
   ]
  },
  {
   "cell_type": "markdown",
   "metadata": {},
   "source": [
    "### Evaluate Model 3 with validation data"
   ]
  },
  {
   "cell_type": "code",
   "execution_count": 98,
   "metadata": {},
   "outputs": [
    {
     "name": "stdout",
     "output_type": "stream",
     "text": [
      "[[8640  435]\n",
      " [ 442  439]]\n",
      "             precision    recall  f1-score   support\n",
      "\n",
      "        0.0       0.95      0.95      0.95      9075\n",
      "        1.0       0.50      0.50      0.50       881\n",
      "\n",
      "avg / total       0.91      0.91      0.91      9956\n",
      "\n"
     ]
    }
   ],
   "source": [
    "y_pred = M2.predict(X_val)\n",
    "# Print confusion matrix\n",
    "confusion_matrix = cm(y_val, np.round(y_pred))\n",
    "print(confusion_matrix)\n",
    "print(classification_report(y_val, np.round(y_pred)))"
   ]
  },
  {
   "cell_type": "markdown",
   "metadata": {},
   "source": [
    "### Construct Model 3 (Logistic Regression)"
   ]
  },
  {
   "cell_type": "code",
   "execution_count": 99,
   "metadata": {},
   "outputs": [],
   "source": [
    "M3 = LogisticRegression()"
   ]
  },
  {
   "cell_type": "markdown",
   "metadata": {},
   "source": [
    "### Train Model 3"
   ]
  },
  {
   "cell_type": "code",
   "execution_count": 100,
   "metadata": {},
   "outputs": [
    {
     "data": {
      "text/plain": [
       "LogisticRegression(C=1.0, class_weight=None, dual=False, fit_intercept=True,\n",
       "          intercept_scaling=1, max_iter=100, multi_class='ovr', n_jobs=1,\n",
       "          penalty='l2', random_state=None, solver='liblinear', tol=0.0001,\n",
       "          verbose=0, warm_start=False)"
      ]
     },
     "execution_count": 100,
     "metadata": {},
     "output_type": "execute_result"
    }
   ],
   "source": [
    "M3.fit(x_train, y_train)"
   ]
  },
  {
   "cell_type": "markdown",
   "metadata": {},
   "source": [
    "### Evaluate Model 3 with test data"
   ]
  },
  {
   "cell_type": "code",
   "execution_count": 101,
   "metadata": {},
   "outputs": [
    {
     "name": "stdout",
     "output_type": "stream",
     "text": [
      "Accuracy of logistic regression classifier on test set: 0.93\n",
      "[[9007  112]\n",
      " [ 631  215]]\n",
      "             precision    recall  f1-score   support\n",
      "\n",
      "        0.0       0.93      0.99      0.96      9119\n",
      "        1.0       0.66      0.25      0.37       846\n",
      "\n",
      "avg / total       0.91      0.93      0.91      9965\n",
      "\n"
     ]
    }
   ],
   "source": [
    "y_pred = M3.predict(x_test)\n",
    "print('Accuracy of logistic regression classifier on test set: {:.2f}'.format(M3.score(x_test, y_test)))\n",
    "\n",
    "confusion_matrix = cm(y_test, y_pred)\n",
    "print(confusion_matrix)\n",
    "print(classification_report(y_test, y_pred))"
   ]
  },
  {
   "cell_type": "markdown",
   "metadata": {},
   "source": [
    "### Evaluate Model 3 with validation data"
   ]
  },
  {
   "cell_type": "code",
   "execution_count": 102,
   "metadata": {},
   "outputs": [
    {
     "name": "stdout",
     "output_type": "stream",
     "text": [
      "Accuracy of logistic regression classifier on test set: 0.92\n",
      "[[8959  116]\n",
      " [ 654  227]]\n",
      "             precision    recall  f1-score   support\n",
      "\n",
      "        0.0       0.93      0.99      0.96      9075\n",
      "        1.0       0.66      0.26      0.37       881\n",
      "\n",
      "avg / total       0.91      0.92      0.91      9956\n",
      "\n"
     ]
    }
   ],
   "source": [
    "y_pred = M3.predict(X_val)\n",
    "print('Accuracy of logistic regression classifier on test set: {:.2f}'.format(M3.score(X_val, y_val)))\n",
    "\n",
    "confusion_matrix = cm(y_val, y_pred)\n",
    "print(confusion_matrix)\n",
    "print(classification_report(y_val, y_pred))"
   ]
  },
  {
   "cell_type": "markdown",
   "metadata": {},
   "source": [
    "# Part 3 - Model evaluation when Node2Vec features are removed\n",
    "\n",
    "### Model 1B (Neural Network trained with Binary Crossentropy with node features only)"
   ]
  },
  {
   "cell_type": "code",
   "execution_count": 111,
   "metadata": {},
   "outputs": [
    {
     "name": "stdout",
     "output_type": "stream",
     "text": [
      "12\n"
     ]
    }
   ],
   "source": [
    "# Initialize model\n",
    "\n",
    "input_size = 12 # Node features only\n",
    "\n",
    "M1B = Sequential()\n",
    "\n",
    "# Add an input layer\n",
    "M1B.add(Dense(128, activation='relu', input_shape=(input_size,)))\n",
    "\n",
    "# Add first hidden layer\n",
    "M1B.add(Dense(128, activation='relu'))\n",
    "\n",
    "# Add second hidden layer\n",
    "M1B.add(Dense(64, activation='relu'))\n",
    "\n",
    "#Add third hidden layer\n",
    "M1B.add(Dense(32, activation='relu'))\n",
    "\n",
    "#Add fourth hidden layer\n",
    "M1B.add(Dense(16, activation='relu'))\n",
    "\n",
    "# Add output layer\n",
    "M1B.add(Dense(1,activation='sigmoid'))\n",
    "\n",
    "# Define optimizers\n",
    "nadam = keras.optimizers.Nadam(lr=1e-6, beta_1=0.9, beta_2=0.999, epsilon=None, schedule_decay=0.004)\n",
    "sgd = keras.optimizers.SGD(lr=1e-3, decay=1e-6, momentum=0.9, nesterov=True)\n",
    "\n",
    "M1B.compile(loss='binary_crossentropy',\n",
    "              optimizer=nadam,\n",
    "              metrics=['accuracy'])\n",
    "\n",
    "# Define parameters\n",
    "Nepochs = 10"
   ]
  },
  {
   "cell_type": "code",
   "execution_count": null,
   "metadata": {},
   "outputs": [],
   "source": [
    "# Define list of columns to consider from X matrix\n",
    "f = list(range(14,20)) + list(range(34,40))\n",
    "print(len(f))"
   ]
  },
  {
   "cell_type": "code",
   "execution_count": 112,
   "metadata": {},
   "outputs": [],
   "source": [
    "# Train\n",
    "for i in range(10):\n",
    "    sample_x,sample_y = CreateSample()\n",
    "    M1B.fit(sample_x[:,f], sample_y, epochs=Nepochs, batch_size=5, verbose=0)"
   ]
  },
  {
   "cell_type": "code",
   "execution_count": 113,
   "metadata": {},
   "outputs": [
    {
     "name": "stdout",
     "output_type": "stream",
     "text": [
      "[[7968 1151]\n",
      " [ 163  683]]\n",
      "             precision    recall  f1-score   support\n",
      "\n",
      "        0.0       0.98      0.87      0.92      9119\n",
      "        1.0       0.37      0.81      0.51       846\n",
      "\n",
      "avg / total       0.93      0.87      0.89      9965\n",
      "\n"
     ]
    }
   ],
   "source": [
    "# Evaluate with test data\n",
    "y_pred = M1B.predict(x_test[:,f])\n",
    "# Print confusion matrix\n",
    "confusion_matrix = cm(y_test, np.round(y_pred))\n",
    "print(confusion_matrix)\n",
    "print(classification_report(y_test, np.round(y_pred)))"
   ]
  },
  {
   "cell_type": "code",
   "execution_count": 114,
   "metadata": {},
   "outputs": [
    {
     "name": "stdout",
     "output_type": "stream",
     "text": [
      "[[7739 1336]\n",
      " [ 220  661]]\n",
      "             precision    recall  f1-score   support\n",
      "\n",
      "        0.0       0.97      0.85      0.91      9075\n",
      "        1.0       0.33      0.75      0.46       881\n",
      "\n",
      "avg / total       0.92      0.84      0.87      9956\n",
      "\n"
     ]
    }
   ],
   "source": [
    "# Evaluate with validation data\n",
    "y_pred = M1B.predict(X_val[:,f])\n",
    "# Print confusion matrix\n",
    "confusion_matrix = cm(y_val, np.round(y_pred))\n",
    "print(confusion_matrix)\n",
    "print(classification_report(y_val, np.round(y_pred)))"
   ]
  },
  {
   "cell_type": "markdown",
   "metadata": {},
   "source": [
    "### Model 2B (Neural Network with Focal Loss with node features only)"
   ]
  },
  {
   "cell_type": "code",
   "execution_count": 115,
   "metadata": {},
   "outputs": [],
   "source": [
    "# Initialize model\n",
    "\n",
    "input_size = 12\n",
    "\n",
    "M2B = Sequential()\n",
    "\n",
    "# Add an input layer\n",
    "M2B.add(Dense(128, activation='relu', input_shape=(input_size,)))\n",
    "\n",
    "# Add first hidden layer\n",
    "M2B.add(Dense(128, activation='relu'))\n",
    "\n",
    "# Add second hidden layer\n",
    "M2B.add(Dense(64, activation='relu'))\n",
    "\n",
    "#Add third hidden layer\n",
    "M2B.add(Dense(32, activation='relu'))\n",
    "\n",
    "#Add fourth hidden layer\n",
    "M2B.add(Dense(16, activation='relu'))\n",
    "\n",
    "# Add output layer\n",
    "M2B.add(Dense(1,activation='sigmoid'))\n",
    "\n",
    "# Define optimizers\n",
    "nadam = keras.optimizers.Nadam(lr=1e-6, beta_1=0.9, beta_2=0.999, epsilon=None, schedule_decay=0.004)\n",
    "sgd = keras.optimizers.SGD(lr=1e-3, decay=1e-6, momentum=0.9, nesterov=True)\n",
    "\n",
    "M2B.compile(loss=[focal_loss(alpha=.25, gamma=5)],\n",
    "              optimizer=nadam,\n",
    "              metrics=['accuracy'])\n",
    "\n",
    "# Define parameters\n",
    "Nepochs = 10"
   ]
  },
  {
   "cell_type": "code",
   "execution_count": 116,
   "metadata": {},
   "outputs": [],
   "source": [
    "# Train\n",
    "for i in range(10):\n",
    "    sample_x,sample_y = CreateSample()\n",
    "    M2B.fit(sample_x[:,f], sample_y, epochs=Nepochs, batch_size=5, verbose=0)"
   ]
  },
  {
   "cell_type": "code",
   "execution_count": 117,
   "metadata": {},
   "outputs": [
    {
     "name": "stdout",
     "output_type": "stream",
     "text": [
      "[[8617  502]\n",
      " [ 316  530]]\n",
      "             precision    recall  f1-score   support\n",
      "\n",
      "        0.0       0.96      0.94      0.95      9119\n",
      "        1.0       0.51      0.63      0.56       846\n",
      "\n",
      "avg / total       0.93      0.92      0.92      9965\n",
      "\n"
     ]
    }
   ],
   "source": [
    "# Evaluate with test data\n",
    "y_pred = M2B.predict(x_test[:,f])\n",
    "# Print confusion matrix\n",
    "confusion_matrix = cm(y_test, np.round(y_pred))\n",
    "print(confusion_matrix)\n",
    "print(classification_report(y_test, np.round(y_pred)))"
   ]
  },
  {
   "cell_type": "code",
   "execution_count": 118,
   "metadata": {},
   "outputs": [
    {
     "name": "stdout",
     "output_type": "stream",
     "text": [
      "[[8496  579]\n",
      " [ 352  529]]\n",
      "             precision    recall  f1-score   support\n",
      "\n",
      "        0.0       0.96      0.94      0.95      9075\n",
      "        1.0       0.48      0.60      0.53       881\n",
      "\n",
      "avg / total       0.92      0.91      0.91      9956\n",
      "\n"
     ]
    }
   ],
   "source": [
    "# Evaluate with validation data\n",
    "y_pred = M2B.predict(X_val[:,f])\n",
    "# Print confusion matrix\n",
    "confusion_matrix = cm(y_val, np.round(y_pred))\n",
    "print(confusion_matrix)\n",
    "print(classification_report(y_val, np.round(y_pred)))"
   ]
  },
  {
   "cell_type": "markdown",
   "metadata": {},
   "source": [
    "### Model 3 (Logistic Regression with node features only)"
   ]
  },
  {
   "cell_type": "code",
   "execution_count": 119,
   "metadata": {},
   "outputs": [
    {
     "data": {
      "text/plain": [
       "LogisticRegression(C=1.0, class_weight=None, dual=False, fit_intercept=True,\n",
       "          intercept_scaling=1, max_iter=100, multi_class='ovr', n_jobs=1,\n",
       "          penalty='l2', random_state=None, solver='liblinear', tol=0.0001,\n",
       "          verbose=0, warm_start=False)"
      ]
     },
     "execution_count": 119,
     "metadata": {},
     "output_type": "execute_result"
    }
   ],
   "source": [
    "M3B = LogisticRegression()\n",
    "M3B.fit(x_train[:,f], y_train)"
   ]
  },
  {
   "cell_type": "code",
   "execution_count": 120,
   "metadata": {},
   "outputs": [
    {
     "name": "stdout",
     "output_type": "stream",
     "text": [
      "Accuracy of logistic regression classifier (B) on test set: 0.92\n",
      "[[8994  125]\n",
      " [ 647  199]]\n",
      "             precision    recall  f1-score   support\n",
      "\n",
      "        0.0       0.93      0.99      0.96      9119\n",
      "        1.0       0.61      0.24      0.34       846\n",
      "\n",
      "avg / total       0.91      0.92      0.91      9965\n",
      "\n"
     ]
    }
   ],
   "source": [
    "y_pred = M3B.predict(x_test[:,f])\n",
    "print('Accuracy of logistic regression classifier (B) on test set: {:.2f}'.format(M3B.score(x_test[:,f], y_test)))\n",
    "confusion_matrix = cm(y_test, y_pred)\n",
    "print(confusion_matrix)\n",
    "print(classification_report(y_test, y_pred))"
   ]
  },
  {
   "cell_type": "code",
   "execution_count": 121,
   "metadata": {},
   "outputs": [
    {
     "name": "stdout",
     "output_type": "stream",
     "text": [
      "Accuracy of logistic regression classifier (B) on validation set: 0.92\n",
      "[[8949  126]\n",
      " [ 684  197]]\n",
      "             precision    recall  f1-score   support\n",
      "\n",
      "        0.0       0.93      0.99      0.96      9075\n",
      "        1.0       0.61      0.22      0.33       881\n",
      "\n",
      "avg / total       0.90      0.92      0.90      9956\n",
      "\n"
     ]
    }
   ],
   "source": [
    "y_pred = M3B.predict(X_val[:,f])\n",
    "print('Accuracy of logistic regression classifier (B) on validation set: {:.2f}'.format(M3B.score(X_val[:,f], y_val)))\n",
    "\n",
    "confusion_matrix = cm(y_val, y_pred)\n",
    "print(confusion_matrix)\n",
    "print(classification_report(y_val, y_pred))"
   ]
  },
  {
   "cell_type": "markdown",
   "metadata": {},
   "source": [
    "# Part 4 - Plot Model AUC with y_test"
   ]
  },
  {
   "cell_type": "code",
   "execution_count": 142,
   "metadata": {},
   "outputs": [],
   "source": [
    "import seaborn as sns"
   ]
  },
  {
   "cell_type": "code",
   "execution_count": 146,
   "metadata": {},
   "outputs": [
    {
     "data": {
      "text/plain": [
       "<matplotlib.legend.Legend at 0x121a037f0>"
      ]
     },
     "execution_count": 146,
     "metadata": {},
     "output_type": "execute_result"
    },
    {
     "data": {
      "image/png": "[encoded data removed]",
      "text/plain": [
       "<Figure size 360x360 with 1 Axes>"
      ]
     },
     "metadata": {
      "needs_background": "light"
     },
     "output_type": "display_data"
    }
   ],
   "source": [
    "models = [M1, M2, M3, M1B, M2B, M3B]\n",
    "plt.figure(figsize=(5,5))\n",
    "\n",
    "for i in range(len(models)):\n",
    "    if i in [0,1]:\n",
    "        logit_roc_auc = roc_auc_score(y_test, models[i].predict(x_test))\n",
    "        fpr, tpr, thresholds = roc_curve(y_test, models[i].predict_proba(x_test))\n",
    "        plt.plot(fpr, tpr, label='Model %d (area = %0.3f)' % (i+1,logit_roc_auc))\n",
    "        continue\n",
    "    \n",
    "    elif i == 2:\n",
    "        logit_roc_auc = roc_auc_score(y_test, models[i].predict(x_test))\n",
    "        fpr, tpr, thresholds = roc_curve(y_test, models[i].predict_proba(x_test)[:,1])\n",
    "        plt.plot(fpr, tpr, label='Model %d (area = %0.3f)' % (i+1,logit_roc_auc))\n",
    "        continue\n",
    "        \n",
    "    elif i in [3,4]:\n",
    "        logit_roc_auc = roc_auc_score(y_test, models[i].predict(x_test[:,f]))\n",
    "        fpr, tpr, thresholds = roc_curve(y_test, models[i].predict_proba(x_test[:,f]))\n",
    "        plt.plot(fpr, tpr, label='Model %d (area = %0.3f)' % (i+1,logit_roc_auc))\n",
    "        continue\n",
    "        \n",
    "    elif i == 5:\n",
    "        logit_roc_auc = roc_auc_score(y_test, models[i].predict(x_test[:,f]))\n",
    "        fpr, tpr, thresholds = roc_curve(y_test, models[i].predict_proba(x_test[:,f])[:,1])\n",
    "        plt.plot(fpr, tpr, label='Model %d (area = %0.3f)' % (i+1,logit_roc_auc))\n",
    "        continue\n",
    "        \n",
    "plt.plot([0, 1], [0, 1],'r--')    \n",
    "plt.xlim([0.0, 1.0])\n",
    "plt.ylim([0.0, 1.05])\n",
    "plt.xlabel('False Positive Rate')\n",
    "plt.ylabel('True Positive Rate')\n",
    "plt.title('Receiver operating characteristic')\n",
    "plt.legend(loc=\"lower right\")"
   ]
  },
  {
   "cell_type": "markdown",
   "metadata": {},
   "source": [
    "# Part 5 - Plot Model AUC with y_val"
   ]
  },
  {
   "cell_type": "code",
   "execution_count": 147,
   "metadata": {},
   "outputs": [
    {
     "data": {
      "text/plain": [
       "<matplotlib.legend.Legend at 0x121a83c18>"
      ]
     },
     "execution_count": 147,
     "metadata": {},
     "output_type": "execute_result"
    },
    {
     "data": {
      "image/png": "[encoded data removed]",
      "text/plain": [
       "<Figure size 360x360 with 1 Axes>"
      ]
     },
     "metadata": {
      "needs_background": "light"
     },
     "output_type": "display_data"
    }
   ],
   "source": [
    "models = [M1, M2, M3, M1B, M2B, M3B]\n",
    "plt.figure(figsize=(5,5))\n",
    "\n",
    "for i in range(len(models)):\n",
    "    if i in [0,1]:\n",
    "        logit_roc_auc = roc_auc_score(y_val, models[i].predict(X_val))\n",
    "        fpr, tpr, thresholds = roc_curve(y_val, models[i].predict_proba(X_val))\n",
    "    \n",
    "    elif i == 2:\n",
    "        logit_roc_auc = roc_auc_score(y_val, models[i].predict(X_val))\n",
    "        fpr, tpr, thresholds = roc_curve(y_val, models[i].predict_proba(X_val)[:,1])\n",
    "        \n",
    "    elif i in [3,4]:\n",
    "        logit_roc_auc = roc_auc_score(y_val, models[i].predict(X_val[:,f]))\n",
    "        fpr, tpr, thresholds = roc_curve(y_val, models[i].predict_proba(X_val[:,f]))\n",
    "        \n",
    "    elif i == 5:\n",
    "        logit_roc_auc = roc_auc_score(y_val, models[i].predict(X_val[:,f]))\n",
    "        fpr, tpr, thresholds = roc_curve(y_val, models[i].predict_proba(X_val[:,f])[:,1])\n",
    "        \n",
    "    plt.plot(fpr, tpr, label='Model %d (area = %0.3f)' % (i+1,logit_roc_auc))\n",
    "    plt.plot([0, 1], [0, 1],'r--')\n",
    "    \n",
    "plt.xlim([0.0, 1.0])\n",
    "plt.ylim([0.0, 1.05])\n",
    "plt.xlabel('False Positive Rate')\n",
    "plt.ylabel('True Positive Rate')\n",
    "plt.title('Receiver operating characteristic')\n",
    "plt.legend(loc=\"lower right\")"
   ]
  },
  {
   "cell_type": "markdown",
   "metadata": {},
   "source": [
    "### Save models"
   ]
  },
  {
   "cell_type": "code",
   "execution_count": 150,
   "metadata": {},
   "outputs": [],
   "source": [
    "import pickle\n",
    "M1.save('Models/Model_1_NN_CE.h5')\n",
    "M2.save('Models/Model_2_NN_FL.h5')\n",
    "filename = 'Models/Model_3_LR.pickle'\n",
    "pickle.dump(M3, open(filename, 'wb'))\n",
    "M1B.save('Models/Model_1b_NN_CE_wo_Node2Vec.h5')\n",
    "M2B.save('Models/Model_2b_NN_FL_wo_Node2Vec.h5')\n",
    "filename = 'Models/Model_3b_LR_wo_Node2Vec.pickle'\n",
    "pickle.dump(M3B, open(filename, 'wb'))"
   ]
  },
  {
   "cell_type": "markdown",
   "metadata": {},
   "source": [
    "# Part 6 - Plot Model Performance"
   ]
  },
  {
   "cell_type": "code",
   "execution_count": 152,
   "metadata": {},
   "outputs": [
    {
     "data": {
      "text/html": [
       "<div>\n",
       "<style scoped>\n",
       "    .dataframe tbody tr th:only-of-type {\n",
       "        vertical-align: middle;\n",
       "    }\n",
       "\n",
       "    .dataframe tbody tr th {\n",
       "        vertical-align: top;\n",
       "    }\n",
       "\n",
       "    .dataframe thead th {\n",
       "        text-align: right;\n",
       "    }\n",
       "</style>\n",
       "<table border=\"1\" class=\"dataframe\">\n",
       "  <thead>\n",
       "    <tr style=\"text-align: right;\">\n",
       "      <th></th>\n",
       "      <th>FEATURE</th>\n",
       "      <th>M1</th>\n",
       "      <th>M2</th>\n",
       "      <th>M3</th>\n",
       "      <th>M1B</th>\n",
       "      <th>M2B</th>\n",
       "      <th>M3B</th>\n",
       "    </tr>\n",
       "  </thead>\n",
       "  <tbody>\n",
       "    <tr>\n",
       "      <th>0</th>\n",
       "      <td>TP_test</td>\n",
       "      <td>617</td>\n",
       "      <td>446</td>\n",
       "      <td>215</td>\n",
       "      <td>683</td>\n",
       "      <td>530</td>\n",
       "      <td>199</td>\n",
       "    </tr>\n",
       "    <tr>\n",
       "      <th>1</th>\n",
       "      <td>TN_test</td>\n",
       "      <td>7941</td>\n",
       "      <td>8723</td>\n",
       "      <td>9007</td>\n",
       "      <td>7968</td>\n",
       "      <td>8617</td>\n",
       "      <td>8994</td>\n",
       "    </tr>\n",
       "    <tr>\n",
       "      <th>2</th>\n",
       "      <td>FP_test</td>\n",
       "      <td>229</td>\n",
       "      <td>400</td>\n",
       "      <td>631</td>\n",
       "      <td>163</td>\n",
       "      <td>316</td>\n",
       "      <td>647</td>\n",
       "    </tr>\n",
       "    <tr>\n",
       "      <th>3</th>\n",
       "      <td>FN_test</td>\n",
       "      <td>1178</td>\n",
       "      <td>396</td>\n",
       "      <td>112</td>\n",
       "      <td>1151</td>\n",
       "      <td>502</td>\n",
       "      <td>125</td>\n",
       "    </tr>\n",
       "    <tr>\n",
       "      <th>4</th>\n",
       "      <td>TP_val</td>\n",
       "      <td>613</td>\n",
       "      <td>439</td>\n",
       "      <td>227</td>\n",
       "      <td>661</td>\n",
       "      <td>529</td>\n",
       "      <td>197</td>\n",
       "    </tr>\n",
       "    <tr>\n",
       "      <th>5</th>\n",
       "      <td>TN_val</td>\n",
       "      <td>7771</td>\n",
       "      <td>8640</td>\n",
       "      <td>8959</td>\n",
       "      <td>7739</td>\n",
       "      <td>8496</td>\n",
       "      <td>8949</td>\n",
       "    </tr>\n",
       "    <tr>\n",
       "      <th>6</th>\n",
       "      <td>FP_val</td>\n",
       "      <td>268</td>\n",
       "      <td>442</td>\n",
       "      <td>654</td>\n",
       "      <td>220</td>\n",
       "      <td>352</td>\n",
       "      <td>684</td>\n",
       "    </tr>\n",
       "    <tr>\n",
       "      <th>7</th>\n",
       "      <td>FN_val</td>\n",
       "      <td>1304</td>\n",
       "      <td>435</td>\n",
       "      <td>116</td>\n",
       "      <td>1336</td>\n",
       "      <td>579</td>\n",
       "      <td>126</td>\n",
       "    </tr>\n",
       "  </tbody>\n",
       "</table>\n",
       "</div>"
      ],
      "text/plain": [
       "   FEATURE    M1    M2    M3   M1B   M2B   M3B\n",
       "0  TP_test   617   446   215   683   530   199\n",
       "1  TN_test  7941  8723  9007  7968  8617  8994\n",
       "2  FP_test   229   400   631   163   316   647\n",
       "3  FN_test  1178   396   112  1151   502   125\n",
       "4   TP_val   613   439   227   661   529   197\n",
       "5   TN_val  7771  8640  8959  7739  8496  8949\n",
       "6   FP_val   268   442   654   220   352   684\n",
       "7   FN_val  1304   435   116  1336   579   126"
      ]
     },
     "execution_count": 152,
     "metadata": {},
     "output_type": "execute_result"
    }
   ],
   "source": [
    "model_performances = pd.read_csv('Models/Model_Performances.csv')\n",
    "model_performances"
   ]
  },
  {
   "cell_type": "code",
   "execution_count": 153,
   "metadata": {},
   "outputs": [],
   "source": [
    "m1 = model_performances['M1'].values\n",
    "m1b = model_performances['M1B'].values\n",
    "m2 = model_performances['M2'].values\n",
    "m2b = model_performances['M2B'].values\n",
    "m3 = model_performances['M3'].values\n",
    "m3b = model_performances['M3B'].values"
   ]
  },
  {
   "cell_type": "code",
   "execution_count": 171,
   "metadata": {},
   "outputs": [
    {
     "data": {
      "text/plain": [
       "Text(0.5,1,'Model Performance on Validation Set')"
      ]
     },
     "execution_count": 171,
     "metadata": {},
     "output_type": "execute_result"
    },
    {
     "data": {
      "image/png": "[encoded data removed]",
      "text/plain": [
       "<Figure size 864x360 with 2 Axes>"
      ]
     },
     "metadata": {
      "needs_background": "light"
     },
     "output_type": "display_data"
    }
   ],
   "source": [
    "# Plot Performance in Test set\n",
    "plt.figure(figsize=(12,5))\n",
    "\n",
    "plt.subplot(121)\n",
    "total_frauds = 846\n",
    "total_non_frauds = 7941 + 1178\n",
    "plt.scatter(m1[0]/total_frauds,m1[1]/total_non_frauds,label='NN_CE',s=100)\n",
    "plt.scatter(m2[0]/total_frauds,m2[1]/total_non_frauds,label='NN_FL',s=100)\n",
    "plt.scatter(m3[0]/total_frauds,m3[1]/total_non_frauds,label='LR',s=100)\n",
    "plt.legend()\n",
    "plt.xlabel('% True fraudulent transactions predicted')\n",
    "plt.ylabel('% True honest transactions predicted')\n",
    "plt.title('Model Performance on Test Set')\n",
    "\n",
    "plt.subplot(122)\n",
    "total_frauds = 613+268\n",
    "total_non_frauds = 7771 + 1304\n",
    "plt.scatter(m1[4]/total_frauds,m1[5]/total_non_frauds,label='NN_CE',s=100)\n",
    "plt.scatter(m2[4]/total_frauds,m2[5]/total_non_frauds,label='NN_FL',s=100)\n",
    "plt.scatter(m3[4]/total_frauds,m3[5]/total_non_frauds,label='LR',s=100)\n",
    "plt.legend()\n",
    "plt.xlabel('% True fraudulent transactions predicted')\n",
    "plt.ylabel('% True honest transactions predicted')\n",
    "plt.title('Model Performance on Validation Set')"
   ]
  },
  {
   "cell_type": "code",
   "execution_count": null,
   "metadata": {},
   "outputs": [],
   "source": []
  }
 ],
 "metadata": {
  "kernelspec": {
   "display_name": "Python 3",
   "language": "python",
   "name": "python3"
  },
  "language_info": {
   "codemirror_mode": {
    "name": "ipython",
    "version": 3
   },
   "file_extension": ".py",
   "mimetype": "text/x-python",
   "name": "python",
   "nbconvert_exporter": "python",
   "pygments_lexer": "ipython3",
   "version": "3.6.6"
  }
 },
 "nbformat": 4,
 "nbformat_minor": 2
}
